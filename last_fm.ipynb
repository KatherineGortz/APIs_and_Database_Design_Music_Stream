{
 "cells": [
  {
   "cell_type": "code",
   "execution_count": 1,
   "metadata": {},
   "outputs": [],
   "source": [
    "import requests\n",
    "import pandas as pd\n",
    "\n",
    "import spotipy\n",
    "from spotipy.oauth2 import SpotifyClientCredentials"
   ]
  },
  {
   "cell_type": "code",
   "execution_count": 2,
   "metadata": {},
   "outputs": [],
   "source": [
    "#API KEY LAST FM\n",
    "\n",
    "API_KEY = '7297aea95a89b3bf151286c42842cdf2'\n",
    "BASE_URL = 'http://ws.audioscrobbler.com/2.0/'"
   ]
  },
  {
   "cell_type": "code",
   "execution_count": 3,
   "metadata": {},
   "outputs": [
    {
     "name": "stdout",
     "output_type": "stream",
     "text": [
      "8694\n",
      "4960\n",
      "         artista\n",
      "0              0\n",
      "1       DJ Snake\n",
      "2  Maribou State\n",
      "3         Xinobi\n",
      "4           Rhye\n",
      "Archivos 'lista_datos.csv' ha sido generado a partir del archivo de origen.\n"
     ]
    }
   ],
   "source": [
    "# Cargar los datos desde un archivo existente (CSV o Excel)\n",
    "# Reemplazar 'ruta_del_archivo.csv' o 'ruta_del_archivo.xlsx' con la ruta real del archivo\n",
    "ruta_csv = 'total_artistas.csv'  # Archivo CSV con los 20000 artistas\n",
    "\n",
    "# Leer el archivo CSV (descomentar la línea si se utiliza un archivo CSV)\n",
    "df = pd.read_csv('./CSV/total_artistas.csv', header=None, names=['artista'])\n",
    "\n",
    "num_filas = len(df)\n",
    "\n",
    "df_lista_artistas = df.drop_duplicates(keep='first') # Eliminar duplicados\n",
    "\n",
    "print(num_filas)\n",
    "print(len(df_lista_artistas))\n",
    "# Confirmar la carga de datos\n",
    "print(df.head())\n",
    "\n",
    "# Guardar nuevamente como un archivo CSV o Excel si es necesario\n",
    "#df.to_csv('lista_datos.csv', index=False)\n",
    "\n",
    "# Confirmar que los archivos han sido generados\n",
    "print(\"Archivos 'lista_datos.csv' ha sido generado a partir del archivo de origen.\")"
   ]
  },
  {
   "cell_type": "code",
   "execution_count": 4,
   "metadata": {},
   "outputs": [
    {
     "name": "stdout",
     "output_type": "stream",
     "text": [
      "         artista\n",
      "0              0\n",
      "1       DJ Snake\n",
      "2  Maribou State\n",
      "3         Xinobi\n",
      "4           Rhye\n",
      "(8694, 1)\n"
     ]
    }
   ],
   "source": [
    "print(df.head())  # Primeras filas del DataFrame\n",
    "print(df.shape)   # Tamaño del DataFrame (filas, columnas)\n"
   ]
  },
  {
   "cell_type": "code",
   "execution_count": 7,
   "metadata": {},
   "outputs": [
    {
     "name": "stdout",
     "output_type": "stream",
     "text": [
      "Error al obtener información para el artista Ana Bacalhau: Expecting value: line 1 column 1 (char 0)\n"
     ]
    }
   ],
   "source": [
    "import time\n",
    "resultados = [] # Lista para almacenar los resultados\n",
    "\n",
    "for artista in df_lista_artistas['artista']:\n",
    "    \n",
    "    params_info = {\n",
    "        \"method\": \"artist.getInfo\",\n",
    "        \"api_key\": API_KEY,\n",
    "        \"format\": \"json\",\n",
    "        \"artist\": artista\n",
    "    }\n",
    "    try:\n",
    "        response_info = requests.get(BASE_URL, params=params_info)\n",
    "        response_info.raise_for_status()  # Verificar errores\n",
    "        data_json = response_info.json()\n",
    "\n",
    "        # Extraer solo los datos necesarios\n",
    "        artist_info = data_json.get('artist', {})\n",
    "        popularidad = artist_info.get('stats', {})  # Popularidad y estadísticas\n",
    "        biografia = artist_info.get('bio', {}).get('summary')  # Biografía breve\n",
    "        artistas_similares = [\n",
    "            similar['name']\n",
    "            for similar in artist_info.get('similar', {}).get('artist', [])\n",
    "        ]\n",
    "        # Agregar datos al listado de resultados\n",
    "        resultados.append({\n",
    "            \"Artista\": artista,\n",
    "            \"Reproducciones\": popularidad.get('playcount'),\n",
    "            \"Oyentes\": popularidad.get('listeners'),\n",
    "            \"Biografía\": biografia,\n",
    "            \"Artistas Similares\": ', '.join(artistas_similares)\n",
    "        })\n",
    "\n",
    "    except requests.exceptions.RequestException as e:\n",
    "        print(f\"Error al obtener información para el artista {artista}: {e}\")\n",
    "\n",
    "    time.sleep(0.5)  # Pausa de medio segundo entre solicitudes, sino nos tira errores de algunos artistas (la API tiene un límite)\n"
   ]
  },
  {
   "cell_type": "code",
   "execution_count": 1,
   "metadata": {},
   "outputs": [
    {
     "ename": "NameError",
     "evalue": "name 'pd' is not defined",
     "output_type": "error",
     "traceback": [
      "\u001b[1;31m---------------------------------------------------------------------------\u001b[0m",
      "\u001b[1;31mNameError\u001b[0m                                 Traceback (most recent call last)",
      "Cell \u001b[1;32mIn[1], line 2\u001b[0m\n\u001b[0;32m      1\u001b[0m \u001b[38;5;66;03m# Convertir resultados a un DataFrame\u001b[39;00m\n\u001b[1;32m----> 2\u001b[0m df_resultados \u001b[38;5;241m=\u001b[39m pd\u001b[38;5;241m.\u001b[39mDataFrame(resultados)\n\u001b[0;32m      4\u001b[0m \u001b[38;5;66;03m# Guardar en un archivo CSV\u001b[39;00m\n\u001b[0;32m      5\u001b[0m df_resultados\u001b[38;5;241m.\u001b[39mto_csv(\u001b[38;5;124m'\u001b[39m\u001b[38;5;124m./CSV/resultados_artistas3.csv\u001b[39m\u001b[38;5;124m'\u001b[39m, index\u001b[38;5;241m=\u001b[39m\u001b[38;5;28;01mFalse\u001b[39;00m, encoding\u001b[38;5;241m=\u001b[39m\u001b[38;5;124m'\u001b[39m\u001b[38;5;124mutf-8\u001b[39m\u001b[38;5;124m'\u001b[39m) \u001b[38;5;66;03m#Tenemos que añadir lo del encoding porque al haber saltos de línea en la BIO y caracteres especiales, necesita soporte\u001b[39;00m\n",
      "\u001b[1;31mNameError\u001b[0m: name 'pd' is not defined"
     ]
    }
   ],
   "source": [
    "# Convertir resultados a un DataFrame\n",
    "df_resultados = pd.DataFrame(resultados)\n",
    "\n",
    "# Guardar en un archivo CSV\n",
    "df_resultados.to_csv('./CSV/resultados_artistas3.csv', index=False, encoding='utf-8') #Tenemos que añadir lo del encoding porque al haber saltos de línea en la BIO y caracteres especiales, necesita soporte\n",
    "df_resultados.to_excel('./EXCEL/resultados_artistas3.xlsx', index=False)"
   ]
  },
  {
   "cell_type": "code",
   "execution_count": 22,
   "metadata": {},
   "outputs": [],
   "source": [
    "##Listado de artistas de spotify\n",
    "##Recorrer ese listado y hacer una peticion a last.fm con el nombre del artista\n",
    "##Crear un listado para almacenar los diccionarios de los artistas\n",
    "##Almacenar ese listado en un fichero"
   ]
  }
 ],
 "metadata": {
  "kernelspec": {
   "display_name": "base",
   "language": "python",
   "name": "python3"
  },
  "language_info": {
   "codemirror_mode": {
    "name": "ipython",
    "version": 3
   },
   "file_extension": ".py",
   "mimetype": "text/x-python",
   "name": "python",
   "nbconvert_exporter": "python",
   "pygments_lexer": "ipython3",
   "version": "3.12.7"
  }
 },
 "nbformat": 4,
 "nbformat_minor": 2
}
